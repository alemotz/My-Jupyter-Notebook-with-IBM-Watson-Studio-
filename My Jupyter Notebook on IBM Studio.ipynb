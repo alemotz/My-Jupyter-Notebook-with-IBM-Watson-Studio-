{
  "metadata": {
    "language_info": {
      "codemirror_mode": {
        "name": "python",
        "version": 3
      },
      "file_extension": ".py",
      "mimetype": "text/x-python",
      "name": "python",
      "nbconvert_exporter": "python",
      "pygments_lexer": "ipython3",
      "version": "3.8"
    },
    "kernelspec": {
      "name": "python",
      "display_name": "Pyolite",
      "language": "python"
    }
  },
  "nbformat_minor": 4,
  "nbformat": 4,
  "cells": [
    {
      "cell_type": "markdown",
      "source": "# My Jupyter Notebook on IBM Watson Studio\n",
      "metadata": {}
    },
    {
      "cell_type": "markdown",
      "source": "**Alejandro Ortiz**\n\nPhysics Student at UCLA",
      "metadata": {}
    },
    {
      "cell_type": "markdown",
      "source": "*I am interested in data science because of its possible aplications in physics. I am currently interested in physics research which deals with managing a lot of scientific data and I belive that the data science practices that I learn in this course will help.*",
      "metadata": {}
    },
    {
      "cell_type": "markdown",
      "source": "### Print Hello World!",
      "metadata": {}
    },
    {
      "cell_type": "code",
      "source": "print(\"Hello World!\")",
      "metadata": {
        "trusted": true
      },
      "execution_count": 4,
      "outputs": [
        {
          "name": "stdout",
          "text": "Hello World!\n",
          "output_type": "stream"
        }
      ]
    },
    {
      "cell_type": "markdown",
      "source": "1. One\n2. Two\n3. Three\n4. Four\n5. Five \n6. Six",
      "metadata": {}
    }
  ]
}